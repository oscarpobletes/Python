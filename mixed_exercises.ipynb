{
  "nbformat": 4,
  "nbformat_minor": 0,
  "metadata": {
    "colab": {
      "provenance": []
    },
    "kernelspec": {
      "name": "python3",
      "display_name": "Python 3"
    },
    "language_info": {
      "name": "python"
    }
  },
  "cells": [
    {
      "cell_type": "markdown",
      "source": [
        "#Mixed exercises\n",
        "Óscar Poblete Sáenz  "
      ],
      "metadata": {
        "id": "CmPzFJWuB3IT"
      }
    },
    {
      "cell_type": "code",
      "source": [
        "print(\"\\tPRIME NUMBER CHECK\\n\")\n",
        "# Function to check if a number is prime\n",
        "def is_prime(num):\n",
        "    if num < 2:\n",
        "        return False\n",
        "    # Loop that checks divisibility\n",
        "    for i in range(2, num):\n",
        "        if num % i == 0:\n",
        "            return False\n",
        "    return True\n",
        "\n",
        "# Get user input\n",
        "number = int(input(\"Enter a number: \"))\n",
        "# Check if the number is prime or not\n",
        "if is_prime(number) or number == 2:\n",
        "    print(number, \"is a prime number.\")\n",
        "else:\n",
        "    print(number, \"is not a prime number.\")"
      ],
      "metadata": {
        "colab": {
          "base_uri": "https://localhost:8080/"
        },
        "id": "oCDvlwFYVFpC",
        "outputId": "3251ed60-6cde-4f73-8c0d-35647c1b76f9"
      },
      "execution_count": null,
      "outputs": [
        {
          "output_type": "stream",
          "name": "stdout",
          "text": [
            "\tPRIME NUMBER CHECK\n",
            "\n",
            "Enter a number: 7\n",
            "7 is a prime number.\n"
          ]
        }
      ]
    },
    {
      "cell_type": "code",
      "source": [
        "print(\"\\tFACTORIAL CALCULATOR\\n\")\n",
        "# Function to calculate the factorial of a number\n",
        "def factorial(n):\n",
        "    if n == 0:\n",
        "        return 1\n",
        "    else:\n",
        "        return n * factorial(n - 1)\n",
        "\n",
        "# Get user input\n",
        "number = int(input(\"Enter a non-negative integer: \"))\n",
        "\n",
        "# Calculate the factorial\n",
        "result = factorial(number)\n",
        "\n",
        "# Display the result\n",
        "print(f\"The factorial of {number} is: {result}\")"
      ],
      "metadata": {
        "colab": {
          "base_uri": "https://localhost:8080/"
        },
        "id": "gyC0POSYwL0S",
        "outputId": "4fd60244-7a3a-4a04-b2a7-cdc47935d92b"
      },
      "execution_count": null,
      "outputs": [
        {
          "output_type": "stream",
          "name": "stdout",
          "text": [
            "\tFACTORIAL CALCULATOR\n",
            "\n",
            "Enter a non-negative integer: 5\n",
            "The factorial of 5 is: 120\n"
          ]
        }
      ]
    },
    {
      "cell_type": "code",
      "source": [
        "print(\"\\tMAXIMUM ELEMENT IN A LIST\\n\")\n",
        "# Function to find the maximum element in a list\n",
        "def find_max(numbers):\n",
        "    if len(numbers) == 0:\n",
        "        return None\n",
        "    max_num = numbers[0]\n",
        "    for num in numbers:\n",
        "        if num > max_num:\n",
        "            max_num = num\n",
        "    return max_num\n",
        "\n",
        "# Get user input\n",
        "numbers = input(\"Enter a list of numbers separated by spaces: \").split()\n",
        "numbers = [int(num) for num in numbers]\n",
        "\n",
        "# Find the maximum element\n",
        "maximum = find_max(numbers)\n",
        "\n",
        "# Display the result\n",
        "if maximum is None:\n",
        "    print(\"The list is empty.\")\n",
        "else:\n",
        "    print(f\"The maximum element is: {maximum}\")"
      ],
      "metadata": {
        "colab": {
          "base_uri": "https://localhost:8080/"
        },
        "id": "-CrEXah-wLn2",
        "outputId": "87d7d8ef-ac52-4e60-e829-ae575e3e3ef1"
      },
      "execution_count": null,
      "outputs": [
        {
          "output_type": "stream",
          "name": "stdout",
          "text": [
            "\tMAXIMUM ELEMENT IN A LIST\n",
            "\n",
            "Enter a list of numbers separated by spaces: 1 2 4 7 5 \n",
            "The maximum element is: 7\n"
          ]
        }
      ]
    },
    {
      "cell_type": "code",
      "source": [
        "print(\"\\tCOMMON ELEMENTS FINDER\\n\")\n",
        "# Function to find the common elements between two lists\n",
        "def find_common_elements(list1, list2):\n",
        "    common_elements = []\n",
        "\n",
        "    for element in list1:\n",
        "        if element in list2 and element not in common_elements:\n",
        "            common_elements.append(element)\n",
        "\n",
        "    return common_elements\n",
        "\n",
        "# Create two lists\n",
        "list1 = [1, 2, 3, 4, 5]\n",
        "list2 = [4, 5, 6, 7, 8]\n",
        "\n",
        "# Find the common elements between the lists\n",
        "common_elements = find_common_elements(list1, list2)\n",
        "\n",
        "# Display the result\n",
        "print(\"List 1:\", list1)\n",
        "print(\"List 2:\", list2)\n",
        "print(\"Common Elements:\", common_elements)"
      ],
      "metadata": {
        "colab": {
          "base_uri": "https://localhost:8080/"
        },
        "id": "Mlo7SmKfwLcD",
        "outputId": "5c49ca3b-45e5-463f-e68a-4fc59003c1e8"
      },
      "execution_count": null,
      "outputs": [
        {
          "output_type": "stream",
          "name": "stdout",
          "text": [
            "\tCOMMON ELEMENTS FINDER\n",
            "\n",
            "List 1: [1, 2, 3, 4, 5]\n",
            "List 2: [4, 5, 6, 7, 8]\n",
            "Common Elements: [4, 5]\n"
          ]
        }
      ]
    },
    {
      "cell_type": "code",
      "source": [
        "print(\"\\t CHECK MATCHING OCURRENCES WITHIN A LIST\\n\")\n",
        "# Function which checks two occurrences of seven and at least three occurrences of ten in the said list\n",
        "def test(nums):\n",
        "    return nums.count(7) == 2 and nums.count(10) >= 3 # Return true or false\n",
        "# Define list\n",
        "nums = [10,7,15,5,2,7,10,10]\n",
        "# Print list\n",
        "print(\"First list:\")\n",
        "print(nums)\n",
        "# Print result\n",
        "print(test(nums))\n",
        "\n",
        "# Define list\n",
        "nums = [1,7,7,8,2,7,0,10]\n",
        "# Print list\n",
        "print(\"\\nSecond list:\")\n",
        "print(nums)\n",
        "# Print result\n",
        "print(test(nums))\n",
        "\n",
        "# Define list\n",
        "nums = [1,7,7,10,3,2,10,10]\n",
        "# Print list\n",
        "print(\"\\nThird list:\")\n",
        "print(nums)\n",
        "# Print result\n",
        "print(test(nums))"
      ],
      "metadata": {
        "colab": {
          "base_uri": "https://localhost:8080/"
        },
        "id": "-2WvUDU-SC_o",
        "outputId": "3fb1f25c-3bed-40f4-cfce-00e412493934"
      },
      "execution_count": null,
      "outputs": [
        {
          "output_type": "stream",
          "name": "stdout",
          "text": [
            "\t CHECK MATCHING OCURRENCES WITHIN A LIST\n",
            "\n",
            "First list:\n",
            "[10, 7, 15, 5, 2, 7, 10, 10]\n",
            "True\n",
            "\n",
            "Second list:\n",
            "[1, 7, 7, 8, 2, 7, 0, 10]\n",
            "False\n",
            "\n",
            "Third list:\n",
            "[1, 7, 7, 10, 3, 2, 10, 10]\n",
            "True\n"
          ]
        }
      ]
    },
    {
      "cell_type": "code",
      "source": [
        "print(\"\\tAVERAGE CALCULATOR\\n\")\n",
        "# Function to calculate the average of a list of numbers\n",
        "def calculate_average(numbers):\n",
        "    total = sum(numbers)  # Calculate the sum of the numbers\n",
        "    average = total / len(numbers)  # Divide the sum by the number of elements in the list\n",
        "    return round(average,2)\n",
        "\n",
        "# Function to get a list of numbers from the user\n",
        "def get_number_list():\n",
        "    number_list = []\n",
        "    while True:\n",
        "        num = input(\"Enter a number (or 'q' to quit): \")\n",
        "        if num.lower() == 'q':\n",
        "            break\n",
        "        try:\n",
        "            number = int(num)\n",
        "            number_list.append(number)\n",
        "        except ValueError:\n",
        "            print(\"Invalid input. Please enter a valid number.\")\n",
        "    return number_list\n",
        "\n",
        "\n",
        "# Get the list of numbers from the user\n",
        "numbers = get_number_list()  \n",
        "# Calculate the average of the numbers\n",
        "average = calculate_average(numbers)  \n",
        "\n",
        "# Display the entered numbers\n",
        "print(\"The numbers entered are:\", numbers) \n",
        "# Display the calculated average \n",
        "print(\"The average of the numbers is:\", average)  \n"
      ],
      "metadata": {
        "colab": {
          "base_uri": "https://localhost:8080/"
        },
        "id": "2jgjLRbiVIun",
        "outputId": "89324e7b-f0c7-4175-9578-87b166d1ff59"
      },
      "execution_count": null,
      "outputs": [
        {
          "output_type": "stream",
          "name": "stdout",
          "text": [
            "\tAVERAGE CALCULATOR\n",
            "\n",
            "Enter a number (or 'q' to quit): 7\n",
            "Enter a number (or 'q' to quit): 10\n",
            "Enter a number (or 'q' to quit): 9\n",
            "Enter a number (or 'q' to quit): 8\n",
            "Enter a number (or 'q' to quit): 9\n",
            "Enter a number (or 'q' to quit): 7\n",
            "Enter a number (or 'q' to quit): 10\n",
            "Enter a number (or 'q' to quit): q\n",
            "The numbers entered are: [7, 10, 9, 8, 9, 7, 10]\n",
            "The average of the numbers is: 8.57\n"
          ]
        }
      ]
    },
    {
      "cell_type": "code",
      "source": [
        "print(\"\\t AREA AND PERIMETER CALCULATOR\\n\")\n",
        "# Function that calculates the area and perimeter using the given dimensions and returns them as a tuple.\n",
        "def calculate_area_and_perimeter(length, width):\n",
        "    if length <= 0 or width <= 0:\n",
        "        return None  # Return None if either dimension is invalid (<= 0)\n",
        "    \n",
        "    area = length * width\n",
        "    perimeter = 2 * (length + width)\n",
        "    return area, perimeter\n",
        "\n",
        "# Get the dimensions of the rectangle from the user\n",
        "length = float(input(\"Enter the length of the rectangle: \"))\n",
        "width = float(input(\"Enter the width of the rectangle: \"))\n",
        "\n",
        "# Calculate the area and perimeter of the rectangle using tuples\n",
        "rectangle_data = calculate_area_and_perimeter(length, width)\n",
        "\n",
        "if rectangle_data is not None:\n",
        "    area, perimeter = rectangle_data\n",
        "    # Display the area and perimeter of the rectangle\n",
        "    print(\"Rectangle Data:\")\n",
        "    print(\"Area:\", area)\n",
        "    print(\"Perimeter:\", perimeter)\n",
        "else:\n",
        "    print(\"Error. Please enter valid values for length and width\")"
      ],
      "metadata": {
        "colab": {
          "base_uri": "https://localhost:8080/"
        },
        "id": "RlJFOJcGVI0J",
        "outputId": "6768c4d3-6818-4967-fcab-766db0a61a24"
      },
      "execution_count": null,
      "outputs": [
        {
          "output_type": "stream",
          "name": "stdout",
          "text": [
            "\t AREA AND PERIMETER CALCULATOR\n",
            "\n",
            "Enter the length of the rectangle: 6\n",
            "Enter the width of the rectangle: 5\n",
            "Rectangle Data:\n",
            "Area: 30.0\n",
            "Perimeter: 22.0\n"
          ]
        }
      ]
    },
    {
      "cell_type": "code",
      "source": [
        "print(\"\\tGENERATE FIBONACCI SEQUENCE FROM A NUMBER\\n\")\n",
        "# Function to calculate the Fibonacci sequence according to the input number\n",
        "def generate_fibonacci_sequence(n):\n",
        "    sequence = []\n",
        "    if n >= 1:\n",
        "      # First term is 0\n",
        "        sequence.append(0)  \n",
        "    if n >= 2:\n",
        "      # Second term is 1\n",
        "        sequence.append(1)  \n",
        "\n",
        "    for i in range(2, n):\n",
        "       # Calculate the next term by summing up the last two terms in the sequence\n",
        "        next_term = sequence[i-1] + sequence[i-2]\n",
        "       # Add the next term to the sequence\n",
        "        sequence.append(next_term)\n",
        "\n",
        "    return sequence\n",
        "\n",
        "# Get the number of terms from the user\n",
        "n = int(input(\"Enter the number of terms: \"))\n",
        "\n",
        "# Generate the Fibonacci sequence\n",
        "fibonacci_sequence = generate_fibonacci_sequence(n)\n",
        "\n",
        "# Print the Fibonacci sequence\n",
        "print(\"Fibonacci Sequence:\")\n",
        "for term in fibonacci_sequence:\n",
        "    print(term)\n"
      ],
      "metadata": {
        "colab": {
          "base_uri": "https://localhost:8080/"
        },
        "id": "aDgCgNfxgjiE",
        "outputId": "ee612753-3af7-487f-e961-076dec618be2"
      },
      "execution_count": null,
      "outputs": [
        {
          "output_type": "stream",
          "name": "stdout",
          "text": [
            "\tGENERATE FIBONACCI SEQUENCE FROM A NUMBER\n",
            "\n",
            "Enter the number of terms: 7\n",
            "Fibonacci Sequence:\n",
            "0\n",
            "1\n",
            "1\n",
            "2\n",
            "3\n",
            "5\n",
            "8\n"
          ]
        }
      ]
    },
    {
      "cell_type": "code",
      "source": [
        "print(\"\\tGENERATE EVEN AND ODD STONE PILES\")\n",
        "# The first pile has n stones. If n is even, then all piles have an even number of stones.\n",
        "# If n is odd, all piles have an odd number of stones.\n",
        "# Function to generate stone piles\n",
        "def test(n):    \n",
        "    return [n + 2 * i for i in range(n)] \n",
        "\n",
        "# Test case 1\n",
        "n = 2\n",
        "print(\"\\nNumber of piles:\", n)\n",
        "print(\"Number of stones in each pile:\")\n",
        "print(test(n))\n",
        "\n",
        "# Test case 2\n",
        "n = 10\n",
        "print(\"\\nNumber of piles:\", n)\n",
        "print(\"Number of stones in each pile:\")\n",
        "print(test(n))\n",
        "\n",
        "# Test case 3\n",
        "n = 7\n",
        "print(\"\\nNumber of piles:\", n)\n",
        "print(\"Number of stones in each pile:\")\n",
        "print(test(n))\n",
        "\n",
        "# Test case 4\n",
        "n = 15\n",
        "print(\"\\nNumber of piles:\", n)\n",
        "print(\"Number of stones in each pile:\")\n",
        "print(test(n))\n"
      ],
      "metadata": {
        "colab": {
          "base_uri": "https://localhost:8080/"
        },
        "id": "KQefpD61b1HZ",
        "outputId": "e597f641-52f9-4cdd-b354-2b85849c81a4"
      },
      "execution_count": null,
      "outputs": [
        {
          "output_type": "stream",
          "name": "stdout",
          "text": [
            "\tGENERATING EVEN AND ODD STONE PILES\n",
            "\n",
            "Number of piles: 2\n",
            "Number of stones in each pile:\n",
            "[2, 4]\n",
            "\n",
            "Number of piles: 10\n",
            "Number of stones in each pile:\n",
            "[10, 12, 14, 16, 18, 20, 22, 24, 26, 28]\n",
            "\n",
            "Number of piles: 7\n",
            "Number of stones in each pile:\n",
            "[7, 9, 11, 13, 15, 17, 19]\n",
            "\n",
            "Number of piles: 15\n",
            "Number of stones in each pile:\n",
            "[15, 17, 19, 21, 23, 25, 27, 29, 31, 33, 35, 37, 39, 41, 43]\n"
          ]
        }
      ]
    },
    {
      "cell_type": "code",
      "execution_count": null,
      "metadata": {
        "id": "JYT5aDVVnVYv",
        "colab": {
          "base_uri": "https://localhost:8080/"
        },
        "outputId": "ab66cf5c-8f73-418e-e19d-00ffdb20bb09"
      },
      "outputs": [
        {
          "output_type": "stream",
          "name": "stdout",
          "text": [
            "\t SUM LIST VALUES GREATER THAN THE TARGET VALUE\n",
            "\n",
            "How many numbers would you like to enter? 10\n",
            "Enter the target value:7\n",
            "Number 1: 2\n",
            "Number 2: 1\n",
            "Number 3: 3\n",
            "Number 4: 4\n",
            "Number 5: 8\n",
            "Number 6: 9\n",
            "Number 7: 10\n",
            "Number 8: 2\n",
            "Number 9: 3\n",
            "Number 10: 6\n",
            "Ordered list: 1 2 2 3 3 4 6 8 9 10\n",
            "Sum: 27\n"
          ]
        }
      ],
      "source": [
        "print(\"\\t SUM LIST VALUES GREATER THAN THE TARGET VALUE\\n\")\n",
        "# Initialize an empty dictionary to store values\n",
        "num_list= []\n",
        "\n",
        "# Request list size and target value\n",
        "num_amount = int(input(\"How many numbers would you like to enter? \"))\n",
        "target_val = int(input(\"Enter the target value:\"))\n",
        "\n",
        "# Request, add and order list content\n",
        "for i in range(num_amount):\n",
        "    num = int(input(f\"Number {i + 1}: \"))\n",
        "    num_list.append(num)\n",
        "    num_list.sort()\n",
        "# Print ordered list\n",
        "print(\"Ordered list:\",*num_list)\n",
        "\n",
        "# Function which given an ordered list of numbers and a target value\n",
        "# return the sum of all values in the list greater than this.\n",
        "def sum_val(list):\n",
        " sum=0\n",
        " for num in list:\n",
        "    if num>target_val:\n",
        "     sum += num\n",
        " return sum\n",
        "\n",
        "# Print result\n",
        "print(\"Sum:\",sum_val(num_list))"
      ]
    },
    {
      "cell_type": "code",
      "source": [
        "print(\"\\tGET TWO VALUES FROM A LIST, THAT ADDED TOGETHER, GIVE A TARGET VALUE\\n\")\n",
        "num_list= []\n",
        "# Request list size\n",
        "num_amount = int(input(\"How many numbers would you like to enter? \"))\n",
        "target_val = int(input(\"Enter the target value:\"))\n",
        "# Request, add and order list content\n",
        "for i in range(num_amount):\n",
        "    num = int(input(f\"Number {i + 1}: \"))\n",
        "    num_list.append(num)\n",
        "    num_list.sort()\n",
        "# Print ordered list\n",
        "print(\"Ordered list:\",*num_list)\n",
        "\n",
        "# Function which given an ordered list of numbers and a target value\n",
        "# return two numbers from the list that give the sum of the value.\n",
        "def target_sum(list):\n",
        " for i in range(len(list)):\n",
        "  for j in range(i+1,len(list)):\n",
        "    if list[i]+list[j]==target_val:\n",
        "     print(\"The values that satisfy the sum are:\",list[i],\"and\",list[j])\n",
        "       \n",
        "# Call function\n",
        "target_sum(num_list)"
      ],
      "metadata": {
        "id": "5bkg37tdnghb",
        "colab": {
          "base_uri": "https://localhost:8080/"
        },
        "outputId": "979d678c-ba8f-4c46-b4aa-d4cdecb97c87"
      },
      "execution_count": null,
      "outputs": [
        {
          "output_type": "stream",
          "name": "stdout",
          "text": [
            "\tGET TWO VALUES FROM THE LIST, THAT ADDED TOGETHER, GIVE A TARGET VALUE\n",
            "\n",
            "How many numbers would you like to enter? 5\n",
            "Enter the target value:7\n",
            "Number 1: 2\n",
            "Number 2: 4\n",
            "Number 3: 5\n",
            "Number 4: 3\n",
            "Number 5: 1\n",
            "Ordered list: 1 2 3 4 5\n",
            "The values that satisfy the sum are: 2 and 5\n",
            "The values that satisfy the sum are: 3 and 4\n"
          ]
        }
      ]
    },
    {
      "cell_type": "code",
      "source": [
        "print(\"\\tSEPARATING ONES, TENS, HUNDREDS, AND THOUSANDS\\n\")\n",
        "# Define a number\n",
        "number = 1234\n",
        "\n",
        "# Separate the digits\n",
        "ones = number % 10\n",
        "tens = (number // 10) % 10\n",
        "hundreds = (number // 100) % 10\n",
        "thousands = (number // 1000) % 10\n",
        "\n",
        "# Print the separated digits\n",
        "print(\"Number:\", number)\n",
        "print(\"Ones:\", ones)\n",
        "print(\"Tens:\", tens)\n",
        "print(\"Hundreds:\", hundreds)\n",
        "print(\"Thousands:\", thousands)\n"
      ],
      "metadata": {
        "colab": {
          "base_uri": "https://localhost:8080/"
        },
        "id": "uN6ZE7cMVNFK",
        "outputId": "f64411a4-c578-4de1-8927-845a75155cfa"
      },
      "execution_count": null,
      "outputs": [
        {
          "output_type": "stream",
          "name": "stdout",
          "text": [
            "\tSEPARATING ONES, TENS, HUNDREDS, AND THOUSANDS\n",
            "\n",
            "Number: 1234\n",
            "Ones: 4\n",
            "Tens: 3\n",
            "Hundreds: 2\n",
            "Thousands: 1\n"
          ]
        }
      ]
    },
    {
      "cell_type": "code",
      "source": [
        "print(\"\\tPALINDROME DETECTION\\n\")\n",
        "# Given list of strings\n",
        "strings = ['level', 'radar', 'Ana', 'madam', 'july']\n",
        "\n",
        "# Detect palindromes in the list\n",
        "palindromes = []\n",
        "for string in strings:\n",
        "   # Convert the string to lowercase\n",
        "    string=string.lower()\n",
        "    # Check if the string is equal to its reverse\n",
        "    if string == string[::-1]:  \n",
        "      # Add the string to the palindromes list\n",
        "        palindromes.append(string)  \n",
        "\n",
        "# Display the palindromes\n",
        "print(\"Palindromes:\")\n",
        "for palindrome in palindromes:\n",
        "    print(palindrome)  # Print each palindrome\n",
        "\n"
      ],
      "metadata": {
        "colab": {
          "base_uri": "https://localhost:8080/"
        },
        "id": "pDjQJgTJVNLv",
        "outputId": "a97bfc00-e6bc-4a34-8fb1-d764cc386289"
      },
      "execution_count": null,
      "outputs": [
        {
          "output_type": "stream",
          "name": "stdout",
          "text": [
            "\tPALINDROME DETECTION\n",
            "\n",
            "Palindromes:\n",
            "level\n",
            "radar\n",
            "ana\n",
            "madam\n"
          ]
        }
      ]
    },
    {
      "cell_type": "code",
      "source": [
        "print(\"\\tPANGRAM CHECKER\\n\")\n",
        "# Function to check if a string is a pangram\n",
        "def is_pangram(text):\n",
        "    alphabet = 'abcdefghijklmnopqrstuvwxyz'\n",
        "    for char in alphabet:\n",
        "        if char not in text.lower():\n",
        "            return False\n",
        "    return True\n",
        "\n",
        "# Get input string from user\n",
        "text = input(\"Enter a sentence: \")\n",
        "\n",
        "# Check if the string is a pangram\n",
        "if is_pangram(text):\n",
        "    print(\"The sentence is a pangram.\")\n",
        "else:\n",
        "    print(\"The sentence is not a pangram.\")\n"
      ],
      "metadata": {
        "colab": {
          "base_uri": "https://localhost:8080/"
        },
        "id": "PdeGx3aUwLiV",
        "outputId": "588a93c6-4a81-4987-acf2-5717ecb16037"
      },
      "execution_count": null,
      "outputs": [
        {
          "output_type": "stream",
          "name": "stdout",
          "text": [
            "\tPANGRAM CHECKER\n",
            "\n",
            "Enter a sentence: The quick brown fox jumps over a lazy dog\n",
            "The sentence is a pangram.\n"
          ]
        }
      ]
    },
    {
      "cell_type": "code",
      "source": [
        "print(\"\\tSTUDENT DICTIONARY\\n\")\n",
        "# Initialize an empty dictionary to store student information\n",
        "students = {}\n",
        "\n",
        "# Prompt the user to enter student information\n",
        "while True:\n",
        "    name = input(\"Enter student name (or 'q' to quit): \")\n",
        "    if name.lower() == \"q\":\n",
        "        break\n",
        "\n",
        "    age = int(input(\"Enter student age: \"))\n",
        "    grade = input(\"Enter student grade: \")\n",
        "\n",
        "    # Store the student information in a dictionary\n",
        "    students[name] = {\n",
        "        \"age\": age,\n",
        "        \"grade\": grade\n",
        "    }\n",
        "\n",
        "# Display the student information\n",
        "print(\"\\nStudent Information:\")\n",
        "for name, info in students.items():\n",
        "    print(\"Name:\", name)\n",
        "    print(\"Age:\", info[\"age\"])\n",
        "    print(\"Grade:\", info[\"grade\"])\n",
        "    print()\n"
      ],
      "metadata": {
        "colab": {
          "base_uri": "https://localhost:8080/"
        },
        "id": "wu75M7jBVNeL",
        "outputId": "09a86591-b8bb-490a-972d-ddd621969e15"
      },
      "execution_count": null,
      "outputs": [
        {
          "output_type": "stream",
          "name": "stdout",
          "text": [
            "\tSTUDENT DICTIONARY\n",
            "\n",
            "Enter student name (or 'q' to quit): Oscar\n",
            "Enter student age: 7\n",
            "Enter student grade: 9\n",
            "Enter student name (or 'q' to quit): Ana\n",
            "Enter student age: 8\n",
            "Enter student grade: 10\n",
            "Enter student name (or 'q' to quit): Pedro\n",
            "Enter student age: 7\n",
            "Enter student grade: 8\n",
            "Enter student name (or 'q' to quit): q\n",
            "\n",
            "Student Information:\n",
            "Name: Oscar\n",
            "Age: 7\n",
            "Grade: 9\n",
            "\n",
            "Name: Ana\n",
            "Age: 8\n",
            "Grade: 10\n",
            "\n",
            "Name: Pedro\n",
            "Age: 7\n",
            "Grade: 8\n",
            "\n"
          ]
        }
      ]
    },
    {
      "cell_type": "code",
      "source": [
        "print(\"\\tOPERATIONS DICTIONARY\\n\")\n",
        "# Functions to add, substract, multiply and divide\n",
        "def add(a, b):\n",
        "    return a + b\n",
        "\n",
        "def subtract(a, b):\n",
        "    return a - b\n",
        "\n",
        "\n",
        "def multiply(a, b):\n",
        "    return a * b\n",
        "\n",
        "def divide(a, b):\n",
        "    return a / b\n",
        "\n",
        "# Dictionary mapping operations to corresponding functions\n",
        "operations = {\n",
        "    '+': add,\n",
        "    '-': subtract,\n",
        "    '*': multiply,\n",
        "    '/': divide\n",
        "}\n",
        "\n",
        "# Prompt the user to enter numbers and operation\n",
        "num1 = float(input(\"Enter the first number: \"))\n",
        "num2 = float(input(\"Enter the second number: \"))\n",
        "operator = input(\"Enter the operation (+, -, *, /): \")\n",
        "\n",
        "# Perform the calculation using the selected operation\n",
        "if operator in operations:\n",
        "    result = operations[operator](num1, num2)\n",
        "    print(\"Result:\", result)\n",
        "else:\n",
        "    print(\"Invalid operation.\")\n"
      ],
      "metadata": {
        "colab": {
          "base_uri": "https://localhost:8080/"
        },
        "id": "D_c9q-X1VNX1",
        "outputId": "61b7adc6-da56-44c1-f98e-7de4fed80896"
      },
      "execution_count": null,
      "outputs": [
        {
          "output_type": "stream",
          "name": "stdout",
          "text": [
            "\tOPERATIONS DICTIONARY\n",
            "\n",
            "Enter the first number: 7\n",
            "Enter the second number: 8\n",
            "Enter the operation (+, -, *, /): *\n",
            "Result: 56.0\n"
          ]
        }
      ]
    },
    {
      "cell_type": "code",
      "source": [
        "print(\"\\tLISTIFY STRINGS USING MAP\\n\")\n",
        "# Function to listify a string\n",
        "def listify_string(string):\n",
        "    return list(string)\n",
        "\n",
        "# Given list of strings\n",
        "strings = ['Hello', 'World', 'Python', 'Programming']\n",
        "\n",
        "# Listify the strings using map and listify_string function\n",
        "listified_strings = list(map(listify_string, strings))\n",
        "\n",
        "# Display the listified strings\n",
        "print(\"Listified Strings:\")\n",
        "for string in listified_strings:\n",
        "    print(string)\n"
      ],
      "metadata": {
        "colab": {
          "base_uri": "https://localhost:8080/"
        },
        "id": "2Qh_zw28VNRs",
        "outputId": "53cd9349-8342-4cba-b5eb-3107457a5fde"
      },
      "execution_count": null,
      "outputs": [
        {
          "output_type": "stream",
          "name": "stdout",
          "text": [
            "\tLISTIFY STRINGS USING MAP\n",
            "\n",
            "Listified Strings:\n",
            "['H', 'e', 'l', 'l', 'o']\n",
            "['W', 'o', 'r', 'l', 'd']\n",
            "['P', 'y', 't', 'h', 'o', 'n']\n",
            "['P', 'r', 'o', 'g', 'r', 'a', 'm', 'm', 'i', 'n', 'g']\n"
          ]
        }
      ]
    },
    {
      "cell_type": "code",
      "source": [
        "print(\"\\tADDING AND SUBSTRACTING TWO LISTS USING MAP\\n\")\n",
        "# Function to add and subtract\n",
        "def addition_subtraction(x, y):\n",
        "    return x + y, x - y\n",
        "\n",
        "# Define lists\n",
        "nums1 = [7, 3, 3, 8]\n",
        "nums2 = [0, 1, 7, 7]\n",
        "\n",
        "# Print the original lists\n",
        "print(\"Original lists:\")\n",
        "print(nums1)\n",
        "print(nums2)\n",
        "\n",
        "# Apply the addition_subtraction function to each pair of elements using map\n",
        "result = map(addition_subtraction, nums1, nums2)\n",
        "\n",
        "# Print the result as a list\n",
        "print(\"\\nResult:\")\n",
        "print(list(result))"
      ],
      "metadata": {
        "colab": {
          "base_uri": "https://localhost:8080/"
        },
        "id": "LqTDNOFrs2lG",
        "outputId": "89272458-66e3-4144-99ca-eeaf0f6f7e7f"
      },
      "execution_count": null,
      "outputs": [
        {
          "output_type": "stream",
          "name": "stdout",
          "text": [
            "\tADDING AND SUBSTRACTING TWO LISTS USING MAP\n",
            "\n",
            "Original lists:\n",
            "[7, 3, 3, 8]\n",
            "[0, 1, 7, 7]\n",
            "\n",
            "Result:\n",
            "[(7, 7), (4, 2), (10, -4), (15, 1)]\n"
          ]
        }
      ]
    },
    {
      "cell_type": "code",
      "source": [
        "print(\"\\tSET OPERATIONS\\n\")\n",
        "# Given sets\n",
        "set1 = {1, 2, 3, 4, 5}\n",
        "set2 = {4, 5, 6, 7, 8}\n",
        "\n",
        "# Union of two sets\n",
        "union_set = set1.union(set2)\n",
        "print(\"Union Set:\")\n",
        "print(union_set)\n",
        "\n",
        "# Intersection of two sets\n",
        "intersection_set = set1.intersection(set2)\n",
        "print(\"Intersection Set:\")\n",
        "print(intersection_set)\n",
        "\n",
        "# Difference between two sets\n",
        "difference_set = set1.difference(set2)\n",
        "print(\"Difference Set (set1 - set2):\")\n",
        "print(difference_set)\n",
        "\n",
        "# Symmetric difference between two sets\n",
        "symmetric_difference_set = set1.symmetric_difference(set2)\n",
        "print(\"Symmetric Difference Set:\")\n",
        "print(symmetric_difference_set)"
      ],
      "metadata": {
        "colab": {
          "base_uri": "https://localhost:8080/"
        },
        "id": "LOulmaPux0Lv",
        "outputId": "ca5078c9-0f1d-4409-ef47-7917976177b7"
      },
      "execution_count": null,
      "outputs": [
        {
          "output_type": "stream",
          "name": "stdout",
          "text": [
            "\tSET OPERATIONS\n",
            "\n",
            "Union Set:\n",
            "{1, 2, 3, 4, 5, 6, 7, 8}\n",
            "Intersection Set:\n",
            "{4, 5}\n",
            "Difference Set (set1 - set2):\n",
            "{1, 2, 3}\n",
            "Symmetric Difference Set:\n",
            "{1, 2, 3, 6, 7, 8}\n"
          ]
        }
      ]
    },
    {
      "cell_type": "code",
      "source": [
        "print(\"\\tSET MEMBERSHIP\\n\")\n",
        "# Given set\n",
        "fruits = {'apple', 'banana', 'orange', 'grape', 'watermelon'}\n",
        "\n",
        "# Check if an element is present in the set\n",
        "element = 'banana'\n",
        "if element in fruits:\n",
        "    print(f\"{element} is present in the set\")\n",
        "else:\n",
        "    print(f\"{element} is not present in the set\")\n",
        "\n",
        "# Check if an element is not present in the set\n",
        "element = 'mango'\n",
        "if element not in fruits:\n",
        "    print(f\"{element} is not present in the set\")\n",
        "else:\n",
        "    print(f\"{element} is present in the set\")\n"
      ],
      "metadata": {
        "colab": {
          "base_uri": "https://localhost:8080/"
        },
        "id": "TRU_VfHZx1gK",
        "outputId": "a0a96eef-ad14-4d50-e640-438f8d4826c3"
      },
      "execution_count": null,
      "outputs": [
        {
          "output_type": "stream",
          "name": "stdout",
          "text": [
            "\tSET MEMBERSHIP\n",
            "\n",
            "banana is present in the set\n",
            "mango is not present in the set\n"
          ]
        }
      ]
    },
    {
      "cell_type": "code",
      "source": [
        "print(\"\\tWORD COUNT IN TEXT\\n\")\n",
        "# Collections module implements specialized container datatypes providing \n",
        "# alternatives to Python's general purpose built-in containers, dict, list, set, and tuple.\n",
        "from collections import Counter\n",
        "import re\n",
        "\n",
        "text = \"\"\"This text will be used to demonstrate the functionality of the Counter class in Python.\n",
        "The Counter class provides a convenient way to count occurrences of elements in a collection.\n",
        "By using regular expressions, we can split the text into words and count their frequencies.\"\"\"\n",
        "\n",
        "# Extract words from the text using regular expression pattern '\\w+'\n",
        "# '\\w+' matches one or more alphanumeric characters (letters, digits, and underscores)\n",
        "words = re.findall('\\w+', text)\n",
        "# Retrieve and display the most common 5 words\n",
        "print(Counter(words).most_common(5))"
      ],
      "metadata": {
        "colab": {
          "base_uri": "https://localhost:8080/"
        },
        "id": "pxEVCpEvVM7n",
        "outputId": "10a9597a-7c83-49f9-9f1a-e7fcac7d6005"
      },
      "execution_count": null,
      "outputs": [
        {
          "output_type": "stream",
          "name": "stdout",
          "text": [
            "\tWORD COUNT IN TEXT\n",
            "\n",
            "[('the', 3), ('text', 2), ('to', 2), ('of', 2), ('Counter', 2)]\n"
          ]
        }
      ]
    },
    {
      "cell_type": "code",
      "source": [
        "print(\"\\tELEMENT COUNT AND ITERATION\\n\")\n",
        "from collections import Counter\n",
        "\n",
        "# Given list of elements\n",
        "elements = ['apple', 'banana', 'apple', 'orange', 'banana', 'apple']\n",
        "\n",
        "# Count the occurrences of each element\n",
        "element_count = Counter(elements)\n",
        "\n",
        "# Iterate over the elements based on their count\n",
        "for element, count in element_count.items():\n",
        "    print(f\"Element: {element}\")\n",
        "    print(f\"Count: {count}\")\n",
        "    print(\"Iteration:\")\n",
        "    for i in range(count):\n",
        "        print(element)\n",
        "    print()  \n"
      ],
      "metadata": {
        "colab": {
          "base_uri": "https://localhost:8080/"
        },
        "id": "TKYRlXYcwIKe",
        "outputId": "1fa5e244-5661-47b2-cd75-3f61e03062df"
      },
      "execution_count": null,
      "outputs": [
        {
          "output_type": "stream",
          "name": "stdout",
          "text": [
            "\tELEMENT COUNT AND ITERATION\n",
            "\n",
            "Element: apple\n",
            "Count: 3\n",
            "Iteration:\n",
            "apple\n",
            "apple\n",
            "apple\n",
            "\n",
            "Element: banana\n",
            "Count: 2\n",
            "Iteration:\n",
            "banana\n",
            "banana\n",
            "\n",
            "Element: orange\n",
            "Count: 1\n",
            "Iteration:\n",
            "orange\n",
            "\n"
          ]
        }
      ]
    },
    {
      "cell_type": "code",
      "source": [
        "print(\"\\tODD/EVEN CHECK USING LAMBDA\\n\")\n",
        "# Lambda function to check if a number is odd or even\n",
        "odd_even = lambda x: \"Even\" if x % 2 == 0 else \"Odd\"\n",
        "\n",
        "# Check if numbers are odd or even using the lambda function\n",
        "numbers = [5, 10, 15, 20, 25]\n",
        "result = list(map(odd_even, numbers))\n",
        "\n",
        "# Display the results in a table\n",
        "print(\"Number   |   Result\")\n",
        "print(\"-------------------\")\n",
        "for num, res in zip(numbers, result):\n",
        "  # f-string formatting to display the value of num. \n",
        "  # The < symbol indicates left alignment, and 8 specifies the width of the field to be 8 characters.\n",
        "    print(f\"{num:<8} |   {res}\")"
      ],
      "metadata": {
        "colab": {
          "base_uri": "https://localhost:8080/"
        },
        "id": "rYMev9u_wIDF",
        "outputId": "16f2e9fe-e5e8-4180-d764-be50895aad26"
      },
      "execution_count": null,
      "outputs": [
        {
          "output_type": "stream",
          "name": "stdout",
          "text": [
            "\tODD/EVEN CHECK USING LAMBDA\n",
            "\n",
            "Number   |   Result\n",
            "-------------------\n",
            "5        |   Odd\n",
            "10       |   Even\n",
            "15       |   Odd\n",
            "20000    |   Even\n",
            "25       |   Odd\n"
          ]
        }
      ]
    },
    {
      "cell_type": "code",
      "source": [
        "print(\"\\tNAME INITIALS USING LAMBDA\\n\")\n",
        "# Lambda function to extract initials from a name\n",
        "initials = lambda name: ''.join(word[0].upper() for word in name.split())\n",
        "\n",
        "# Extract initials from names using the lambda function\n",
        "names = [\"Oscar Poblete\", \"Jane Smith\", \"Abraham Martinez\"]\n",
        "result = list(map(initials, names))\n",
        "\n",
        "# Display the results in a table\n",
        "print(\"Name         |      Initials\")\n",
        "print(\"------------------------\")\n",
        "for name, res in zip(names, result):\n",
        "    print(f\"{name} -> {res}\")"
      ],
      "metadata": {
        "colab": {
          "base_uri": "https://localhost:8080/"
        },
        "id": "wBKc0PVnwH_3",
        "outputId": "74c19422-b07d-494e-ed63-08f34eb042e9"
      },
      "execution_count": null,
      "outputs": [
        {
          "output_type": "stream",
          "name": "stdout",
          "text": [
            "\tNAME INITIALS USING LAMBDA\n",
            "\n",
            "Name         |      Initials\n",
            "------------------------\n",
            "Oscar Poblete -> OP\n",
            "Jane Smith -> JS\n",
            "Abraham Martinez -> AM\n"
          ]
        }
      ]
    },
    {
      "cell_type": "code",
      "source": [
        "print(\"\\tCLASS - FRUIT\\n\")\n",
        "# Fruit class\n",
        "class Fruit:\n",
        "    def __init__(self, name, color, taste):\n",
        "        self.name = name\n",
        "        self.color = color\n",
        "        self.taste = taste\n",
        "    \n",
        "    def display_info(self):\n",
        "        print(f\"Name: {self.name}\")\n",
        "        print(f\"Color: {self.color}\")\n",
        "        print(f\"Taste: {self.taste}\")\n",
        "\n",
        "# Create instances of Fruit\n",
        "fruit1 = Fruit(\"Apple\", \"Red\", \"Sweet\")\n",
        "fruit2 = Fruit(\"Banana\", \"Yellow\", \"Sweet and Creamy\")\n",
        "\n",
        "# Display information for each fruit\n",
        "print(\"Fruit 1:\")\n",
        "fruit1.display_info()\n",
        "print(\"\\nFruit 2:\")\n",
        "fruit2.display_info()"
      ],
      "metadata": {
        "colab": {
          "base_uri": "https://localhost:8080/"
        },
        "id": "79zJiFQZwH7G",
        "outputId": "12388bf6-6aaf-44f4-f5e9-3227652834fd"
      },
      "execution_count": null,
      "outputs": [
        {
          "output_type": "stream",
          "name": "stdout",
          "text": [
            "\tCLASS - FRUIT\n",
            "\n",
            "Fruit 1:\n",
            "Name: Apple\n",
            "Color: Red\n",
            "Taste: Sweet\n",
            "\n",
            "Fruit 2:\n",
            "Name: Banana\n",
            "Color: Yellow\n",
            "Taste: Sweet and Creamy\n"
          ]
        }
      ]
    },
    {
      "cell_type": "code",
      "source": [
        "print(\"\\tCLASS - CAR\\n\")\n",
        "# Car class\n",
        "class Car:\n",
        "    def __init__(self, brand, model, year, top_speed):\n",
        "        self.brand = brand\n",
        "        self.model = model\n",
        "        self.year = year\n",
        "        self.top_speed = top_speed\n",
        "    \n",
        "    def display_info(self):\n",
        "        print(f\"Brand: {self.brand}\")\n",
        "        print(f\"Model: {self.model}\")\n",
        "        print(f\"Year: {self.year}\")\n",
        "        print(f\"Top Speed: {self.top_speed} mph\")\n",
        "\n",
        "# Create instances of Car\n",
        "car1 = Car(\"Lamborghini\", \"Aventador\", 2022, 217)\n",
        "car2 = Car(\"Ferrari\", \"LaFerrari\", 2021, 217)\n",
        "\n",
        "# Display information for each car\n",
        "print(\"Car 1:\")\n",
        "car1.display_info()\n",
        "print(\"\\nCar 2:\")\n",
        "car2.display_info()\n"
      ],
      "metadata": {
        "colab": {
          "base_uri": "https://localhost:8080/"
        },
        "id": "plWNuRU51RpZ",
        "outputId": "af8ea562-5e6b-4ae2-dc8c-fe9809eb7214"
      },
      "execution_count": null,
      "outputs": [
        {
          "output_type": "stream",
          "name": "stdout",
          "text": [
            "\tCLASS - CAR\n",
            "\n",
            "Car 1:\n",
            "Brand: Lamborghini\n",
            "Model: Aventador\n",
            "Year: 2022\n",
            "Top Speed: 217 mph\n",
            "\n",
            "Car 2:\n",
            "Brand: Ferrari\n",
            "Model: LaFerrari\n",
            "Year: 2021\n",
            "Top Speed: 217 mph\n"
          ]
        }
      ]
    },
    {
      "cell_type": "code",
      "source": [
        "print(\"\\tCLASS - AGENDA\\n\")\n",
        "# Agenda class\n",
        "class Agenda:\n",
        "    def __init__(self):\n",
        "        self.contacts = {}\n",
        "\n",
        "    def add_contact(self, name, phone, email):\n",
        "        self.contacts[name] = {\"Phone\": phone, \"Email\": email}\n",
        "        print(\"Contact added successfully.\")\n",
        "\n",
        "    def update_contact(self, name):\n",
        "        if name in self.contacts:\n",
        "            print(\"Enter new contact details:\")\n",
        "            phone = input(\"Phone: \")\n",
        "            email = input(\"Email: \")\n",
        "            self.contacts[name] = {\"Phone\": phone, \"Email\": email}\n",
        "            print(\"Contact updated successfully.\")\n",
        "        else:\n",
        "            print(\"Contact not found.\")\n",
        "\n",
        "    def consult_contact(self, name):\n",
        "        if name in self.contacts:\n",
        "            print(\"Contact Details:\")\n",
        "            print(\"Name:\", name)\n",
        "            print(\"Phone:\", self.contacts[name][\"Phone\"])\n",
        "            print(\"Email:\", self.contacts[name][\"Email\"])\n",
        "        else:\n",
        "            print(\"Contact not found.\")\n",
        "\n",
        "    def remove_contact(self, name):\n",
        "        if name in self.contacts:\n",
        "            del self.contacts[name]\n",
        "            print(\"Contact removed successfully.\")\n",
        "        else:\n",
        "            print(\"Contact not found.\")\n",
        "\n",
        "# Menu function\n",
        "def menu():\n",
        "    print(\"\\nAGENDA MENU\")\n",
        "    print(\"1. Add contact\")\n",
        "    print(\"2. Update contact\")\n",
        "    print(\"3. Consult contact\")\n",
        "    print(\"4. Remove contact\")\n",
        "    print(\"5. Exit\")\n",
        "\n",
        "# Create agenda object\n",
        "agenda = Agenda()\n",
        "\n",
        "# Main program\n",
        "while True:\n",
        "    menu()\n",
        "    choice = input(\"Enter your choice (1-5): \")\n",
        "\n",
        "    if choice == \"1\":\n",
        "        name = input(\"Enter contact name: \")\n",
        "        phone = input(\"Enter contact phone: \")\n",
        "        email = input(\"Enter contact email: \")\n",
        "        agenda.add_contact(name, phone, email)\n",
        "    elif choice == \"2\":\n",
        "        name = input(\"Enter contact name: \")\n",
        "        agenda.update_contact(name)\n",
        "    elif choice == \"3\":\n",
        "        name = input(\"Enter contact name: \")\n",
        "        agenda.consult_contact(name)\n",
        "    elif choice == \"4\":\n",
        "        name = input(\"Enter contact name: \")\n",
        "        agenda.remove_contact(name)\n",
        "    elif choice == \"5\":\n",
        "        print(\"Bye!\")\n",
        "        break\n",
        "    else:\n",
        "        print(\"Invalid choice. Please try again.\")\n"
      ],
      "metadata": {
        "colab": {
          "base_uri": "https://localhost:8080/"
        },
        "id": "2CqFM0d61nxp",
        "outputId": "1a2d0acd-ac38-4e58-bf6b-a05979588b39"
      },
      "execution_count": null,
      "outputs": [
        {
          "output_type": "stream",
          "name": "stdout",
          "text": [
            "\tCLASS - AGENDA\n",
            "\n",
            "\n",
            "AGENDA MENU\n",
            "1. Add contact\n",
            "2. Update contact\n",
            "3. Consult contact\n",
            "4. Remove contact\n",
            "5. Exit\n",
            "Enter your choice (1-5): 1\n",
            "Enter contact name: Oscar\n",
            "Enter contact phone: 5512345678\n",
            "Enter contact email: oscarpobletesaenz@gmail.com\n",
            "Contact added successfully.\n",
            "\n",
            "AGENDA MENU\n",
            "1. Add contact\n",
            "2. Update contact\n",
            "3. Consult contact\n",
            "4. Remove contact\n",
            "5. Exit\n",
            "Enter your choice (1-5): 1\n",
            "Enter contact name: Julieta \n",
            "Enter contact phone: 5522345678\n",
            "Enter contact email: julietarojga@outlook.es\n",
            "Contact added successfully.\n",
            "\n",
            "AGENDA MENU\n",
            "1. Add contact\n",
            "2. Update contact\n",
            "3. Consult contact\n",
            "4. Remove contact\n",
            "5. Exit\n",
            "Enter your choice (1-5): 1\n",
            "Enter contact name: Pedro\n",
            "Enter contact phone: 55334567892\n",
            "Enter contact email: pedrooo7@hotmail.com\n",
            "Contact added successfully.\n",
            "\n",
            "AGENDA MENU\n",
            "1. Add contact\n",
            "2. Update contact\n",
            "3. Consult contact\n",
            "4. Remove contact\n",
            "5. Exit\n",
            "Enter your choice (1-5): 2\n",
            "Enter contact name: Pedro\n",
            "Enter new contact details:\n",
            "Phone: 5532345678\n",
            "Email: pedrooo7@hotmail.com\n",
            "Contact updated successfully.\n",
            "\n",
            "AGENDA MENU\n",
            "1. Add contact\n",
            "2. Update contact\n",
            "3. Consult contact\n",
            "4. Remove contact\n",
            "5. Exit\n",
            "Enter your choice (1-5): 3\n",
            "Enter contact name: Pedro\n",
            "Contact Details:\n",
            "Name: Pedro\n",
            "Phone: 5532345678\n",
            "Email: pedrooo7@hotmail.com\n",
            "\n",
            "AGENDA MENU\n",
            "1. Add contact\n",
            "2. Update contact\n",
            "3. Consult contact\n",
            "4. Remove contact\n",
            "5. Exit\n",
            "Enter your choice (1-5): 4\n",
            "Enter contact name: Julieta\n",
            "Contact not found.\n",
            "\n",
            "AGENDA MENU\n",
            "1. Add contact\n",
            "2. Update contact\n",
            "3. Consult contact\n",
            "4. Remove contact\n",
            "5. Exit\n",
            "Enter your choice (1-5): 3\n",
            "Enter contact name: Julieta\n",
            "Contact not found.\n",
            "\n",
            "AGENDA MENU\n",
            "1. Add contact\n",
            "2. Update contact\n",
            "3. Consult contact\n",
            "4. Remove contact\n",
            "5. Exit\n",
            "Enter your choice (1-5): 5\n",
            "Bye!\n"
          ]
        }
      ]
    }
  ]
}